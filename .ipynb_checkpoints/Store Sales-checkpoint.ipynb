{
 "cells": [
  {
   "cell_type": "markdown",
   "id": "1499f9a5",
   "metadata": {},
   "source": [
    "In this notebook, we will be examining the sales data (alongside other additional data) of the line of Favorita stores located in Ecuador, and make predictions of sales down the time series. We will start by looking at each of the data sets and intepreting them as required."
   ]
  },
  {
   "cell_type": "code",
   "execution_count": 1,
   "id": "33a65e77",
   "metadata": {},
   "outputs": [],
   "source": [
    "import csv\n",
    "import pandas as pd\n",
    "import numpy as np\n",
    "import matplotlib.pyplot as plt"
   ]
  },
  {
   "cell_type": "code",
   "execution_count": 62,
   "id": "0fb484f2",
   "metadata": {},
   "outputs": [],
   "source": [
    "train = pd.read_csv('train.csv', delimiter=',') # training set\n",
    "hol_events = pd.read_csv('holidays_events.csv', delimiter=',') # holidays in Ecuador\n",
    "oil = pd.read_csv('oil.csv', delimiter=',') # daily oil prices\n",
    "trans = pd.read_csv('transactions.csv', delimiter=',') # transactions done in each store each day\n",
    "stores = pd.read_csv('stores.csv', delimiter=',') # store data"
   ]
  },
  {
   "cell_type": "code",
   "execution_count": 3,
   "id": "e6a891ca",
   "metadata": {
    "scrolled": false
   },
   "outputs": [
    {
     "name": "stdout",
     "output_type": "stream",
     "text": [
      "id             0\n",
      "date           0\n",
      "store_nbr      0\n",
      "family         0\n",
      "sales          0\n",
      "onpromotion    0\n",
      "dtype: int64\n",
      "date           0\n",
      "type           0\n",
      "locale         0\n",
      "locale_name    0\n",
      "description    0\n",
      "transferred    0\n",
      "dtype: int64\n",
      "date           0\n",
      "dcoilwtico    43\n",
      "dtype: int64\n",
      "date            0\n",
      "store_nbr       0\n",
      "transactions    0\n",
      "dtype: int64\n"
     ]
    }
   ],
   "source": [
    "print(train.isna().sum())\n",
    "print(hol_events.isna().sum())\n",
    "print(oil.isna().sum())\n",
    "print(trans.isna().sum())"
   ]
  },
  {
   "cell_type": "code",
   "execution_count": 40,
   "id": "615b8aa7",
   "metadata": {},
   "outputs": [],
   "source": [
    "oil['date'] = oil['date'].astype('datetime64')\n",
    "train['date'] = train['date'].astype('datetime64')\n",
    "hol_events['date'] = hol_events['date'].astype('datetime64')\n",
    "combined = train.merge(oil, on='date', how='left')\n",
    "combined = combined.merge(hol_events, on='date', how='left')"
   ]
  },
  {
   "cell_type": "code",
   "execution_count": 41,
   "id": "aed36868",
   "metadata": {
    "scrolled": true
   },
   "outputs": [
    {
     "data": {
      "text/plain": [
       "0.31271878646441076"
      ]
     },
     "execution_count": 41,
     "metadata": {},
     "output_type": "execute_result"
    }
   ],
   "source": [
    "# check the number of rows with no oil price value\n",
    "combined[combined['dcoilwtico'].isna()]['date'].value_counts().sum()/combined.shape[0]\n"
   ]
  },
  {
   "cell_type": "markdown",
   "id": "03eda7ce",
   "metadata": {},
   "source": [
    "We see from the above that the number of rows with missing oil data is 31% of the combined dataset, which is significant. We do not want to remove these rows to avoid losing data, so we will attempt to interpolate and get their values."
   ]
  },
  {
   "cell_type": "markdown",
   "id": "cb7e60b1",
   "metadata": {},
   "source": [
    "Clearly, our date has a complicated structure across various time periods, and hence we cannot use simple summary statistics to fill in the data. In this case, we make use of spline interpolation to build piecewise functions and fit them onto the various time periods, and use that function to interpolate the missing data. To do so, we will first need to convert our date into floats, and we do this by setting the first row's date as day 0, and let every subsequent row's day be defined relative to it."
   ]
  },
  {
   "cell_type": "code",
   "execution_count": 42,
   "id": "5a129452",
   "metadata": {},
   "outputs": [
    {
     "data": {
      "image/png": "[encoded data removed]",
      "text/plain": [
       "<Figure size 432x288 with 1 Axes>"
      ]
     },
     "metadata": {
      "needs_background": "light"
     },
     "output_type": "display_data"
    }
   ],
   "source": [
    "from scipy.interpolate import *\n",
    "\n",
    "\n",
    "def date_to_days(date):\n",
    "    \"\"\"function to convert datetime to days\"\"\"\n",
    "    START_DATE = oil['date'][0]\n",
    "    return (date - START_DATE).days\n",
    "\n",
    "\n",
    "oil['days'] = oil['date'].apply(date_to_days)\n",
    "\n",
    "\n",
    "x = oil[oil['dcoilwtico'].isna() == False]['days'].to_numpy()\n",
    "y = oil[oil['dcoilwtico'].isna() == False]['dcoilwtico'].to_numpy()\n",
    "BANDWIDTH = 0 # 0 to force strict interpolation between points\n",
    "\n",
    "# interpolate by spline interpolation on the points that have non-NaN values\n",
    "tck = splrep(x, y, s=BANDWIDTH)\n",
    "xnew = combined['date'].astype('datetime64').apply(date_to_days).to_numpy() # we want to get the interpolated values for all the dates in train\n",
    "ynew = splev(xnew, tck,)\n",
    "\n",
    "combined['dcoilwtico'] = ynew #replace column with interpolated values\n",
    "\n",
    "fig, ax = plt.subplots()\n",
    "ax.scatter(x, y, s=0.5)\n",
    "ax.plot(xnew, ynew, 'r-', linewidth=1)\n",
    "plt.show()"
   ]
  },
  {
   "cell_type": "code",
   "execution_count": 43,
   "id": "821c82f1",
   "metadata": {},
   "outputs": [],
   "source": [
    "backup = combined.copy()"
   ]
  },
  {
   "cell_type": "code",
   "execution_count": 84,
   "id": "9199779e",
   "metadata": {},
   "outputs": [],
   "source": [
    "combined = backup.copy()"
   ]
  },
  {
   "cell_type": "markdown",
   "id": "56e6a815",
   "metadata": {},
   "source": [
    "A cursory glance at the training dataset also shows that there is an inordinate amount of 0.0 sales in the certain dates of the training data. Let us examine it closely."
   ]
  },
  {
   "cell_type": "code",
   "execution_count": 85,
   "id": "d9c5d5ca",
   "metadata": {},
   "outputs": [
    {
     "data": {
      "text/plain": [
       "date        sales\n",
       "2013-01-01  0.0      1765\n",
       "2015-01-01  0.0      1759\n",
       "2017-01-01  0.0      1754\n",
       "2016-01-01  0.0      1753\n",
       "2014-01-01  0.0      1732\n",
       "                     ... \n",
       "2017-05-13  0.0       201\n",
       "2017-04-30  0.0       199\n",
       "2017-05-07  0.0       199\n",
       "2017-05-01  0.0       195\n",
       "2017-05-06  0.0       194\n",
       "Length: 1684, dtype: int64"
      ]
     },
     "execution_count": 85,
     "metadata": {},
     "output_type": "execute_result"
    }
   ],
   "source": [
    "# check the rows with 0 sales\n",
    "\n",
    "train[train['sales'] == 0.0].loc[:, ['date', 'sales']].value_counts()"
   ]
  },
  {
   "cell_type": "markdown",
   "id": "47adf77f",
   "metadata": {},
   "source": [
    "Clearly, we see that since for each date with 0 sales, there are multiple rows associated with it, which indicate that either several stores or families of items were affected by the same factor. Looking at the dates with the biggest number of zero sales, we can quickly conclude by eye that holidays like 'New Years' probably led to store closures etc which led to zero sales too."
   ]
  },
  {
   "cell_type": "markdown",
   "id": "62eb9fa1",
   "metadata": {},
   "source": [
    "Next, we try and make sense of the locale_names (hol_events) and city + state (stores) values. From glancing at the values, we note that the 'locale' actually refers to the cities/states of the stores. If the locale value is regional, locale name is a province/state. If locale value is local, locale name is a city.\n",
    "\n",
    "We now bring in the store information (city/state) by left joining on the store number columns."
   ]
  },
  {
   "cell_type": "code",
   "execution_count": 86,
   "id": "a207678e",
   "metadata": {},
   "outputs": [
    {
     "name": "stdout",
     "output_type": "stream",
     "text": [
      "id                   0\n",
      "date                 0\n",
      "store_nbr            0\n",
      "family               0\n",
      "sales                0\n",
      "onpromotion          0\n",
      "dcoilwtico           0\n",
      "days            878526\n",
      "type_x         2551824\n",
      "locale         2551824\n",
      "locale_name    2551824\n",
      "description    2551824\n",
      "transferred    2551824\n",
      "city                 0\n",
      "state                0\n",
      "type_y               0\n",
      "cluster              0\n",
      "dtype: int64\n"
     ]
    }
   ],
   "source": [
    "combined = combined.merge(stores, how='left', on='store_nbr')\n",
    "print(combined.isna().sum())\n"
   ]
  },
  {
   "cell_type": "code",
   "execution_count": 87,
   "id": "1a7d28f9",
   "metadata": {},
   "outputs": [],
   "source": [
    "# replace the NaN locales with National, locale_name with Ecuador, description with Normal Day, transferred with False\n",
    "\n",
    "combined['locale'].fillna('National', inplace=True)\n",
    "combined['locale_name'].fillna('Ecuador', inplace=True)\n",
    "combined['description'].fillna('Normal Day', inplace=True)\n",
    "combined['transferred'].fillna(False, inplace=True)\n",
    "\n",
    "# fill in days with date_to_day function\n",
    "\n",
    "START_DATE = combined['date'].min()\n",
    "\n",
    "def date_to_days(date):\n",
    "    \"\"\"function to convert datetime to days\"\"\"\n",
    "    global START_DATE\n",
    "    return (date - START_DATE).days\n",
    "\n",
    "combined['days'] = combined['date'].apply(date_to_days)"
   ]
  },
  {
   "cell_type": "markdown",
   "id": "2adcab2e",
   "metadata": {},
   "source": [
    "Now that all the NaNs have been filled in, let's encode them and take a look at the correlations between columns."
   ]
  },
  {
   "cell_type": "code",
   "execution_count": 101,
   "id": "1455909f",
   "metadata": {
    "scrolled": true
   },
   "outputs": [],
   "source": [
    "# replace nans with Work Day since number of work days is low (5)\n",
    "combined['type_x'].fillna('Work Day', inplace=True)\n",
    "\n",
    "# replace Bridge, and Additional with Holiday\n",
    "replace_dict = {'Bridge': 'Holiday', 'Additional': 'Holiday',}\n",
    "combined['type_x'].replace(replace_dict, inplace=True)\n",
    "\n",
    "# replace 'transferred' Holidays with 'Work Day'\n",
    "combined.loc[combined['transferred'] == True, 'type_x'] = combined.loc[combined['transferred'] == True, 'type_x'].replace({'Holiday': 'Work Day'})\n",
    "\n",
    "# replace 'Transfer' with 'Holiday'\n",
    "combined['type_x'].replace({'Transfer': 'Holiday'}, inplace=True)\n",
    "\n",
    "#######\n",
    "\n",
    "# encode family\n",
    "\n",
    "families = list(combined['family'].unique())\n",
    "family_codes = {} # family encoding dict\n",
    "for i in range(len(families)):\n",
    "    family_codes[families[i]] = i\n",
    "combined['family'].replace(family_codes, inplace=True)\n",
    "\n",
    "# encode holiday Type\n",
    "types = list(combined['type_x'].unique())\n",
    "type_codes = {} # Type encoding dict\n",
    "for i in range(len(types)):\n",
    "    type_codes[types[i]] = i \n",
    "combined['type_x'].replace(type_codes, inplace=True)\n",
    "\n",
    "# encode locale\n",
    "locales = list(combined['locale'].unique())\n",
    "locale_codes = {}\n",
    "for i in range(len(locales)):\n",
    "    locale_codes[locales[i]] = i\n",
    "combined['locale'].replace(locale_codes, inplace=True)\n",
    "\n",
    "# encode locale_name\n",
    "locale_names = list(combined['locale_name'].unique())\n",
    "localename_codes = {}\n",
    "for i in range(len(locale_names)):\n",
    "    localename_codes[locale_names[i]] = i\n",
    "combined['locale_name'].replace(localename_codes, inplace=True)\n",
    "\n",
    "# encode cities\n",
    "cities = list(combined['city'].unique())\n",
    "city_codes = {}\n",
    "for i in range(len(cities)):\n",
    "    city_codes[cities[i]] = i\n",
    "combined['city'].replace(city_codes, inplace=True)\n",
    "\n",
    "# encode states\n",
    "states = list(combined['state'].unique())\n",
    "state_codes = {}\n",
    "for i in range(len(states)):\n",
    "    state_codes[states[i]] = i\n",
    "combined['state'].replace(state_codes, inplace=True)\n",
    "\n",
    "# encode type_y\n",
    "ytypes = list(combined['type_y'].unique())\n",
    "y_codes = {}\n",
    "for i in range(len(ytypes)):\n",
    "    y_codes[ytypes[i]] = i\n",
    "combined['type_y'].replace(y_codes, inplace=True)\n"
   ]
  },
  {
   "cell_type": "code",
   "execution_count": 102,
   "id": "9c695f64",
   "metadata": {
    "scrolled": false
   },
   "outputs": [
    {
     "name": "stdout",
     "output_type": "stream",
     "text": [
      "<class 'pandas.core.frame.DataFrame'>\n",
      "Int64Index: 3054348 entries, 0 to 3054347\n",
      "Data columns (total 17 columns):\n",
      " #   Column       Dtype         \n",
      "---  ------       -----         \n",
      " 0   id           int64         \n",
      " 1   date         datetime64[ns]\n",
      " 2   store_nbr    int64         \n",
      " 3   family       int64         \n",
      " 4   sales        float64       \n",
      " 5   onpromotion  int64         \n",
      " 6   dcoilwtico   float64       \n",
      " 7   days         int64         \n",
      " 8   type_x       int64         \n",
      " 9   locale       int64         \n",
      " 10  locale_name  int64         \n",
      " 11  description  object        \n",
      " 12  transferred  bool          \n",
      " 13  city         int64         \n",
      " 14  state        int64         \n",
      " 15  type_y       int64         \n",
      " 16  cluster      int64         \n",
      "dtypes: bool(1), datetime64[ns](1), float64(2), int64(12), object(1)\n",
      "memory usage: 399.1+ MB\n",
      "None\n"
     ]
    }
   ],
   "source": [
    "print(combined.info())"
   ]
  },
  {
   "cell_type": "markdown",
   "id": "1b1fe4f2",
   "metadata": {},
   "source": [
    "Now that we have prepared our data and encoded all of them, we will try creating to train a supervised neural network on a training set (80% of our combined data), and validate it on the validation set (20% of combined data). We use sklearn's train_test_split function to first prep the data."
   ]
  },
  {
   "cell_type": "code",
   "execution_count": 148,
   "id": "d03e83d9",
   "metadata": {},
   "outputs": [],
   "source": [
    "import torch\n",
    "import torch.nn as nn\n",
    "\n",
    "# define the neural network\n",
    "\n",
    "class MLP(nn.Module):\n",
    "    \n",
    "    def __init__(self):\n",
    "        super(MLP, self).__init__()\n",
    "        self.layers = nn.Sequential(\n",
    "        nn.Linear(12, 64),\n",
    "        nn.ReLU(),\n",
    "        nn.Linear(64, 32),\n",
    "        nn.ReLU(),\n",
    "        nn.Linear(32, 1)\n",
    "        )\n",
    "    \n",
    "    def forward(self, x):\n",
    "        \"\"\"forward pass\"\"\"\n",
    "        return self.layers(x)\n",
    "    \n"
   ]
  },
  {
   "cell_type": "code",
   "execution_count": 129,
   "id": "7ec7f5e6",
   "metadata": {},
   "outputs": [],
   "source": [
    "# prepare input data for neural network\n",
    "\n",
    "INPUT_COLS = ['days','store_nbr', 'family', 'onpromotion', 'dcoilwtico', \n",
    "              'type_x', 'locale', 'locale_name', 'city', \n",
    "              'state', 'type_y', 'cluster', 'sales']\n",
    "\n",
    "from sklearn.model_selection import train_test_split\n",
    "\n",
    "train, test = train_test_split(combined.loc[:, INPUT_COLS], test_size=0.2)\n",
    "\n",
    "# create class for loading our pandas dataset\n",
    "\n",
    "class CombinedDataset(torch.utils.data.Dataset):\n",
    "    \n",
    "    def __init__(self, X, y, scale_data=False):\n",
    "        if not torch.is_tensor(X) and not torch.is_tensor(y):\n",
    "            # Apply scaling if necessary\n",
    "            if scale_data:\n",
    "                X = StandardScaler().fit_transform(X)\n",
    "            self.X = torch.from_numpy(X)\n",
    "            self.y = torch.from_numpy(y)\n",
    "\n",
    "    def __len__(self):\n",
    "        return len(self.X)\n",
    "\n",
    "    def __getitem__(self, i):\n",
    "        return self.X[i], self.y[i]\n",
    "\n",
    "# load our df dataset into tensor for pytorch\n",
    "\n",
    "X = train.iloc[:, :-1].to_numpy()\n",
    "y = train.iloc[:, -1].to_numpy()\n",
    "\n",
    "dataset = CombinedDataset(X=X, y=y)\n",
    "trainloader = torch.utils.data.DataLoader(dataset, )\n",
    "\n"
   ]
  },
  {
   "cell_type": "code",
   "execution_count": 147,
   "id": "955dfd39",
   "metadata": {},
   "outputs": [
    {
     "name": "stdout",
     "output_type": "stream",
     "text": [
      "(2443478, 12)\n"
     ]
    }
   ],
   "source": []
  },
  {
   "cell_type": "code",
   "execution_count": 149,
   "id": "b789bdc4",
   "metadata": {},
   "outputs": [
    {
     "name": "stdout",
     "output_type": "stream",
     "text": [
      "Starting epoch 1\n"
     ]
    },
    {
     "ename": "KeyboardInterrupt",
     "evalue": "",
     "output_type": "error",
     "traceback": [
      "\u001b[1;31m---------------------------------------------------------------------------\u001b[0m",
      "\u001b[1;31mKeyboardInterrupt\u001b[0m                         Traceback (most recent call last)",
      "Input \u001b[1;32mIn [149]\u001b[0m, in \u001b[0;36m<cell line: 12>\u001b[1;34m()\u001b[0m\n\u001b[0;32m     38\u001b[0m loss\u001b[38;5;241m.\u001b[39mbackward()\n\u001b[0;32m     40\u001b[0m \u001b[38;5;66;03m# Perform optimization\u001b[39;00m\n\u001b[1;32m---> 41\u001b[0m \u001b[43moptimizer\u001b[49m\u001b[38;5;241;43m.\u001b[39;49m\u001b[43mstep\u001b[49m\u001b[43m(\u001b[49m\u001b[43m)\u001b[49m\n\u001b[0;32m     43\u001b[0m \u001b[38;5;66;03m# Print statistics\u001b[39;00m\n\u001b[0;32m     44\u001b[0m losses\u001b[38;5;241m.\u001b[39mappend(loss\u001b[38;5;241m.\u001b[39mdetach())\n",
      "File \u001b[1;32m~\\miniconda3\\envs\\kaggle\\lib\\site-packages\\torch\\optim\\optimizer.py:87\u001b[0m, in \u001b[0;36mOptimizer._hook_for_profile.<locals>.profile_hook_step.<locals>.wrapper\u001b[1;34m(*args, **kwargs)\u001b[0m\n\u001b[0;32m     85\u001b[0m obj, \u001b[38;5;241m*\u001b[39m_ \u001b[38;5;241m=\u001b[39m args\n\u001b[0;32m     86\u001b[0m profile_name \u001b[38;5;241m=\u001b[39m \u001b[38;5;124m\"\u001b[39m\u001b[38;5;124mOptimizer.step#\u001b[39m\u001b[38;5;132;01m{}\u001b[39;00m\u001b[38;5;124m.step\u001b[39m\u001b[38;5;124m\"\u001b[39m\u001b[38;5;241m.\u001b[39mformat(obj\u001b[38;5;241m.\u001b[39m\u001b[38;5;18m__class__\u001b[39m\u001b[38;5;241m.\u001b[39m\u001b[38;5;18m__name__\u001b[39m)\n\u001b[1;32m---> 87\u001b[0m \u001b[38;5;28;01mwith\u001b[39;00m \u001b[43mtorch\u001b[49m\u001b[38;5;241;43m.\u001b[39;49m\u001b[43mautograd\u001b[49m\u001b[38;5;241;43m.\u001b[39;49m\u001b[43mprofiler\u001b[49m\u001b[38;5;241;43m.\u001b[39;49m\u001b[43mrecord_function\u001b[49m\u001b[43m(\u001b[49m\u001b[43mprofile_name\u001b[49m\u001b[43m)\u001b[49m:\n\u001b[0;32m     88\u001b[0m     \u001b[38;5;28;01mreturn\u001b[39;00m func(\u001b[38;5;241m*\u001b[39margs, \u001b[38;5;241m*\u001b[39m\u001b[38;5;241m*\u001b[39mkwargs)\n",
      "File \u001b[1;32m~\\miniconda3\\envs\\kaggle\\lib\\site-packages\\torch\\autograd\\profiler.py:432\u001b[0m, in \u001b[0;36mrecord_function.__init__\u001b[1;34m(self, name)\u001b[0m\n\u001b[0;32m    429\u001b[0m \u001b[38;5;28mself\u001b[39m\u001b[38;5;241m.\u001b[39mrun_callbacks_on_exit: \u001b[38;5;28mbool\u001b[39m \u001b[38;5;241m=\u001b[39m \u001b[38;5;28;01mTrue\u001b[39;00m\n\u001b[0;32m    430\u001b[0m \u001b[38;5;66;03m# Stores underlying RecordFunction as a tensor. TODO: move to custom\u001b[39;00m\n\u001b[0;32m    431\u001b[0m \u001b[38;5;66;03m# class (https://github.com/pytorch/pytorch/issues/35026).\u001b[39;00m\n\u001b[1;32m--> 432\u001b[0m \u001b[38;5;28mself\u001b[39m\u001b[38;5;241m.\u001b[39mhandle: torch\u001b[38;5;241m.\u001b[39mTensor \u001b[38;5;241m=\u001b[39m \u001b[43mtorch\u001b[49m\u001b[38;5;241;43m.\u001b[39;49m\u001b[43mzeros\u001b[49m\u001b[43m(\u001b[49m\u001b[38;5;241;43m1\u001b[39;49m\u001b[43m)\u001b[49m\n",
      "\u001b[1;31mKeyboardInterrupt\u001b[0m: "
     ]
    }
   ],
   "source": [
    "# Set fixed random number seed\n",
    "torch.manual_seed(42)\n",
    "\n",
    "# Initialize the MLP\n",
    "mlp = MLP()\n",
    "\n",
    "# Define the loss function and optimizer\n",
    "loss_function = nn.L1Loss()\n",
    "optimizer = torch.optim.Adam(mlp.parameters(), lr=1e-4)\n",
    "\n",
    "# Run the training loop\n",
    "for epoch in range(0, 10): # 10 epochs at maximum\n",
    "\n",
    "    # Print epoch\n",
    "    print(f'Starting epoch {epoch+1}')\n",
    "\n",
    "    # Set current loss value\n",
    "    losses = []\n",
    "\n",
    "    # Iterate over the DataLoader for training data\n",
    "    for i, data in enumerate(trainloader, 0):\n",
    "\n",
    "        # Get and prepare inputs\n",
    "        inputs, targets = data\n",
    "        inputs, targets = inputs.float(), targets.float()\n",
    "        targets = targets.reshape((targets.shape[0], 1))\n",
    "        \n",
    "        # Zero the gradients\n",
    "        optimizer.zero_grad()\n",
    "\n",
    "        # Perform forward pass\n",
    "        outputs = mlp(inputs)\n",
    "\n",
    "        # Compute loss\n",
    "        loss = loss_function(outputs, targets)\n",
    "\n",
    "        # Perform backward pass\n",
    "        loss.backward()\n",
    "\n",
    "        # Perform optimization\n",
    "        optimizer.step()\n",
    "\n",
    "        # Print statistics\n",
    "        losses.append(loss.detach())\n",
    "\n",
    "\n",
    "# Process is complete.\n",
    "print('Training process has finished.')"
   ]
  }
 ],
 "metadata": {
  "kernelspec": {
   "display_name": "Python 3 (ipykernel)",
   "language": "python",
   "name": "python3"
  },
  "language_info": {
   "codemirror_mode": {
    "name": "ipython",
    "version": 3
   },
   "file_extension": ".py",
   "mimetype": "text/x-python",
   "name": "python",
   "nbconvert_exporter": "python",
   "pygments_lexer": "ipython3",
   "version": "3.8.13"
  }
 },
 "nbformat": 4,
 "nbformat_minor": 5
}
