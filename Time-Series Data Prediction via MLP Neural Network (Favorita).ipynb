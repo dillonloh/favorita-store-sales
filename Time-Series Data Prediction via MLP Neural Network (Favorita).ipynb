{
 "cells": [
  {
   "cell_type": "markdown",
   "id": "ba7f35db",
   "metadata": {},
   "source": [
    "In this notebook, we will be examining the sales data (alongside other additional data) of the line of Favorita stores located in Ecuador, and make predictions of sales down the time series. We will start by looking at each of the data sets and intepreting them as required."
   ]
  },
  {
   "cell_type": "markdown",
   "id": "761b3534",
   "metadata": {},
   "source": [
    "# Preparing Training/Validation Data\n"
   ]
  },
  {
   "cell_type": "code",
   "execution_count": 1,
   "id": "33a65e77",
   "metadata": {},
   "outputs": [],
   "source": [
    "import csv\n",
    "import pandas as pd\n",
    "import numpy as np\n",
    "import matplotlib.pyplot as plt"
   ]
  },
  {
   "cell_type": "code",
   "execution_count": 170,
   "id": "c9cdc234",
   "metadata": {},
   "outputs": [],
   "source": [
    "train = pd.read_csv('train.csv', delimiter=',') # training set\n",
    "hol_events = pd.read_csv('holidays_events.csv', delimiter=',') # holidays in Ecuador\n",
    "oil = pd.read_csv('oil.csv', delimiter=',') # daily oil prices\n",
    "trans = pd.read_csv('transactions.csv', delimiter=',') # transactions done in each store each day\n",
    "stores = pd.read_csv('stores.csv', delimiter=',') # store data"
   ]
  },
  {
   "cell_type": "code",
   "execution_count": 3,
   "id": "aef19ec4",
   "metadata": {
    "scrolled": false
   },
   "outputs": [
    {
     "name": "stdout",
     "output_type": "stream",
     "text": [
      "id             0\n",
      "date           0\n",
      "store_nbr      0\n",
      "family         0\n",
      "sales          0\n",
      "onpromotion    0\n",
      "dtype: int64\n",
      "date           0\n",
      "type           0\n",
      "locale         0\n",
      "locale_name    0\n",
      "description    0\n",
      "transferred    0\n",
      "dtype: int64\n",
      "date           0\n",
      "dcoilwtico    43\n",
      "dtype: int64\n",
      "date            0\n",
      "store_nbr       0\n",
      "transactions    0\n",
      "dtype: int64\n"
     ]
    }
   ],
   "source": [
    "print(train.isna().sum())\n",
    "print(hol_events.isna().sum())\n",
    "print(oil.isna().sum())\n",
    "print(trans.isna().sum())"
   ]
  },
  {
   "cell_type": "code",
   "execution_count": 171,
   "id": "d1bbc683",
   "metadata": {},
   "outputs": [],
   "source": [
    "oil['date'] = oil['date'].astype('datetime64')\n",
    "train['date'] = train['date'].astype('datetime64')\n",
    "hol_events['date'] = hol_events['date'].astype('datetime64')\n",
    "combined = train.merge(oil, on='date', how='left')\n",
    "combined = combined.merge(hol_events, on='date', how='left')"
   ]
  },
  {
   "cell_type": "code",
   "execution_count": 172,
   "id": "c4a66d51",
   "metadata": {
    "scrolled": true
   },
   "outputs": [
    {
     "data": {
      "text/plain": [
       "0.31271878646441076"
      ]
     },
     "execution_count": 172,
     "metadata": {},
     "output_type": "execute_result"
    }
   ],
   "source": [
    "# check the number of rows with no oil price value\n",
    "combined[combined['dcoilwtico'].isna()]['date'].value_counts().sum()/combined.shape[0]\n"
   ]
  },
  {
   "cell_type": "markdown",
   "id": "734635c8",
   "metadata": {},
   "source": [
    "We see from the above that the number of rows with missing oil data is 31% of the combined dataset, which is significant. We do not want to remove these rows to avoid losing data, so we will attempt to interpolate and get their values."
   ]
  },
  {
   "cell_type": "markdown",
   "id": "2a296057",
   "metadata": {},
   "source": [
    "Clearly, our date has a complicated structure across various time periods, and hence we cannot use simple summary statistics to fill in the data. In this case, we make use of spline interpolation to build piecewise functions and fit them onto the various time periods, and use that function to interpolate the missing data. To do so, we will first need to convert our date into floats, and we do this by setting the first row's date as day 0, and let every subsequent row's day be defined relative to it."
   ]
  },
  {
   "cell_type": "code",
   "execution_count": 173,
   "id": "2af0360e",
   "metadata": {},
   "outputs": [
    {
     "data": {
      "image/png": "[encoded data removed]",
      "text/plain": [
       "<Figure size 432x288 with 1 Axes>"
      ]
     },
     "metadata": {
      "needs_background": "light"
     },
     "output_type": "display_data"
    }
   ],
   "source": [
    "from scipy.interpolate import *\n",
    "\n",
    "\n",
    "def date_to_days(date):\n",
    "    \"\"\"function to convert datetime to days\"\"\"\n",
    "    START_DATE = oil['date'][0]\n",
    "    return (date - START_DATE).days\n",
    "\n",
    "\n",
    "oil['days'] = oil['date'].apply(date_to_days)\n",
    "\n",
    "\n",
    "x = oil[oil['dcoilwtico'].isna() == False]['days'].to_numpy()\n",
    "y = oil[oil['dcoilwtico'].isna() == False]['dcoilwtico'].to_numpy()\n",
    "BANDWIDTH = 0 # 0 to force strict interpolation between points\n",
    "\n",
    "# interpolate by spline interpolation on the points that have non-NaN values\n",
    "tck = splrep(x, y, s=BANDWIDTH)\n",
    "xnew = combined['date'].astype('datetime64').apply(date_to_days).to_numpy() # we want to get the interpolated values for all the dates in train\n",
    "ynew = splev(xnew, tck,)\n",
    "\n",
    "combined['dcoilwtico'] = ynew #replace column with interpolated values\n",
    "\n",
    "fig, ax = plt.subplots()\n",
    "ax.scatter(x, y, s=0.5)\n",
    "ax.plot(xnew, ynew, 'r-', linewidth=1)\n",
    "plt.show()"
   ]
  },
  {
   "cell_type": "markdown",
   "id": "bbd0489a",
   "metadata": {},
   "source": [
    "A cursory glance at the training dataset also shows that there is an inordinate amount of 0.0 sales in the certain dates of the training data. Let us examine it closely."
   ]
  },
  {
   "cell_type": "code",
   "execution_count": 7,
   "id": "d04c880c",
   "metadata": {},
   "outputs": [
    {
     "data": {
      "text/plain": [
       "date        sales\n",
       "2013-01-01  0.0      1765\n",
       "2015-01-01  0.0      1759\n",
       "2017-01-01  0.0      1754\n",
       "2016-01-01  0.0      1753\n",
       "2014-01-01  0.0      1732\n",
       "                     ... \n",
       "2017-05-13  0.0       201\n",
       "2017-04-30  0.0       199\n",
       "2017-05-07  0.0       199\n",
       "2017-05-01  0.0       195\n",
       "2017-05-06  0.0       194\n",
       "Length: 1684, dtype: int64"
      ]
     },
     "execution_count": 7,
     "metadata": {},
     "output_type": "execute_result"
    }
   ],
   "source": [
    "# check the rows with 0 sales\n",
    "\n",
    "train[train['sales'] == 0.0].loc[:, ['date', 'sales']].value_counts()"
   ]
  },
  {
   "cell_type": "markdown",
   "id": "3fe35aed",
   "metadata": {},
   "source": [
    "Clearly, we see that since for each date with 0 sales, there are multiple rows associated with it, which indicate that either several stores or families of items were affected by the same factor. Looking at the dates with the biggest number of zero sales, we can quickly conclude by eye that holidays like 'New Years' probably led to store closures etc which led to zero sales too."
   ]
  },
  {
   "cell_type": "markdown",
   "id": "714263fc",
   "metadata": {},
   "source": [
    "Next, we try and make sense of the locale_names (hol_events) and city + state (stores) values. From glancing at the values, we note that the 'locale' actually refers to the cities/states of the stores. If the locale value is regional, locale name is a province/state. If locale value is local, locale name is a city.\n",
    "\n",
    "We now bring in the store information (city/state) by left joining on the store number columns."
   ]
  },
  {
   "cell_type": "code",
   "execution_count": 174,
   "id": "7ed68e78",
   "metadata": {},
   "outputs": [
    {
     "name": "stdout",
     "output_type": "stream",
     "text": [
      "id                   0\n",
      "date                 0\n",
      "store_nbr            0\n",
      "family               0\n",
      "sales                0\n",
      "onpromotion          0\n",
      "dcoilwtico           0\n",
      "type_x         2551824\n",
      "locale         2551824\n",
      "locale_name    2551824\n",
      "description    2551824\n",
      "transferred    2551824\n",
      "city                 0\n",
      "state                0\n",
      "type_y               0\n",
      "cluster              0\n",
      "dtype: int64\n"
     ]
    }
   ],
   "source": [
    "combined = combined.merge(stores, how='left', on='store_nbr')\n",
    "print(combined.isna().sum())"
   ]
  },
  {
   "cell_type": "code",
   "execution_count": 175,
   "id": "54461b17",
   "metadata": {},
   "outputs": [],
   "source": [
    "# fill in days with date_to_day function\n",
    "\n",
    "START_DATE = combined['date'].min()\n",
    "\n",
    "def date_to_days(date):\n",
    "    \"\"\"function to convert datetime to days\"\"\"\n",
    "    global START_DATE\n",
    "    return (date - START_DATE).days\n",
    "\n",
    "combined['days'] = combined['date'].apply(date_to_days)"
   ]
  },
  {
   "cell_type": "markdown",
   "id": "3e23951e",
   "metadata": {},
   "source": [
    "We note that some of the holidays indicated in the combined table are inaccurate, as some holidays are local/regional rather than national, and hence do not affect all the stores on that particular date. \n",
    "\n",
    "We will first replace the 'Bridge' and 'Additional' values with 'Holiday' by assuming that they function the same as a normal holiday. We will then have to clean up the transferred holidays: we need to remove the 'Holiday' tag from the holidays that were transferred to another date, and replace the 'Transfer' tags with 'Holiday' tags to those new replacement dates. "
   ]
  },
  {
   "cell_type": "code",
   "execution_count": 176,
   "id": "74c5616a",
   "metadata": {},
   "outputs": [],
   "source": [
    "# replace nans with Work Day since if no holiday typex, means no holiday at all for that date.\n",
    "combined['type_x'].fillna('Work Day', inplace=True)\n",
    "\n",
    "# replace Bridge, and Additional with Holiday\n",
    "replace_dict = {'Bridge': 'Holiday', 'Additional': 'Holiday',}\n",
    "combined['type_x'].replace(replace_dict, inplace=True)\n",
    "\n",
    "# replace 'transferred' Holidays with 'Work Day'\n",
    "combined.loc[combined['transferred'] == True, 'type_x'] = combined.loc[combined['transferred'] == True, 'type_x'].replace({'Holiday': 'Work Day'})\n",
    "\n",
    "# replace 'Transfer' with 'Holiday'\n",
    "combined['type_x'].replace({'Transfer': 'Holiday'}, inplace=True)\n"
   ]
  },
  {
   "cell_type": "markdown",
   "id": "7b6b65b5",
   "metadata": {},
   "source": [
    "We will need to change the 'Holiday' value to 'Work Day' for those stores that are outside the region affected by the holiday. By a painstaking process of googling the locale_name values, we notice that the locale_names associated to 'Local' locales are all cities, and the ones associated to 'Regional' are all states. Hence, we can do this validation by checking against the state and city columns."
   ]
  },
  {
   "cell_type": "code",
   "execution_count": 11,
   "id": "2f43838f",
   "metadata": {},
   "outputs": [
    {
     "data": {
      "text/plain": [
       "locale    locale_name                   \n",
       "National  Ecuador                           261954\n",
       "Local     Guayaquil                          19602\n",
       "          Riobamba                           17820\n",
       "          Guaranda                           16038\n",
       "          Latacunga                          16038\n",
       "          Ambato                             14256\n",
       "          Quito                              14256\n",
       "          Cuenca                             10692\n",
       "          Puyo                                8910\n",
       "Regional  Imbabura                            8910\n",
       "          Cotopaxi                            8910\n",
       "Local     Santo Domingo                       8910\n",
       "          Manta                               8910\n",
       "          Cayambe                             8910\n",
       "          Machala                             8910\n",
       "          Libertad                            8910\n",
       "          Esmeraldas                          8910\n",
       "          El Carmen                           8910\n",
       "          Quevedo                             7128\n",
       "          Loja                                7128\n",
       "          Salinas                             7128\n",
       "          Ibarra                              7128\n",
       "Regional  Santa Elena                         7128\n",
       "          Santo Domingo de los Tsachilas      7128\n",
       "dtype: int64"
      ]
     },
     "execution_count": 11,
     "metadata": {},
     "output_type": "execute_result"
    }
   ],
   "source": [
    "combined.loc[:, ['locale','locale_name']].value_counts()"
   ]
  },
  {
   "cell_type": "code",
   "execution_count": 177,
   "id": "66cbadee",
   "metadata": {},
   "outputs": [],
   "source": [
    "def remove_wrong_hol(row):\n",
    "    holiday_region = row['locale'] # check if the holiday is local, regional, or national\n",
    "    if holiday_region == 'Local': # if local, holiday is only applicable to a city\n",
    "        row_city = row['city']\n",
    "        hol_city = row['locale_name']\n",
    "        if row_city != hol_city: # check if the store in the row is in the same city as the holiday\n",
    "            return 'NA' # if not, then holiday is not applicable, so NA\n",
    "        else:\n",
    "            return 'holiday'\n",
    "    \n",
    "    elif holiday_region == 'Regional': # if regional, holiday is applicable to whole state\n",
    "        row_state = row['state']\n",
    "        hol_state = row['locale_name']\n",
    "        if row_state != hol_state: # check if the store in the row is in the same state as the holiday\n",
    "            return 'NA'\n",
    "        else:\n",
    "            return 'holiday'\n",
    "            \n",
    "    elif holiday_region == 'National':\n",
    "        return 'holiday'\n",
    "        \n",
    "    else: # if no holiday on that day, its jsut a normal work day so NA\n",
    "        return 'NA'\n",
    "\n",
    "\n",
    "combined['holiday_cleaned'] = combined.apply(remove_wrong_hol, axis=1)\n"
   ]
  },
  {
   "cell_type": "code",
   "execution_count": 178,
   "id": "de24dc1f",
   "metadata": {},
   "outputs": [
    {
     "name": "stdout",
     "output_type": "stream",
     "text": [
      "holiday    13530\n",
      "Name: holiday_cleaned, dtype: int64\n",
      "NA    2778864\n",
      "Name: holiday_cleaned, dtype: int64\n"
     ]
    }
   ],
   "source": [
    "# check that only the rows with locale_name == state or city has 'holiday'\n",
    "print(combined[(combined['locale_name'] == combined['state']) | (combined['locale_name'] == combined['city'])]['holiday_cleaned'].value_counts())\n",
    "print(combined[(combined['locale_name'] != combined['state']) & (combined['locale_name'] != combined['city']) & (combined['locale'] != 'National')]['holiday_cleaned'].value_counts())"
   ]
  },
  {
   "cell_type": "markdown",
   "id": "f22fabc6",
   "metadata": {},
   "source": [
    "Now, we will split the date data into Years, Months, and Days."
   ]
  },
  {
   "cell_type": "code",
   "execution_count": 179,
   "id": "2ff01348",
   "metadata": {},
   "outputs": [],
   "source": [
    "# split date\n",
    "\n",
    "combined['day'] = combined['date'].dt.day\n",
    "combined['month'] = combined['date'].dt.month\n",
    "combined['year'] = combined['date'].dt.year"
   ]
  },
  {
   "cell_type": "markdown",
   "id": "a273bea5",
   "metadata": {},
   "source": [
    "Now that all the NaNs have been filled in, let's encode them and take a look at the correlations between columns."
   ]
  },
  {
   "cell_type": "code",
   "execution_count": 180,
   "id": "0da574b0",
   "metadata": {
    "scrolled": true
   },
   "outputs": [],
   "source": [
    "# encode family\n",
    "\n",
    "families = list(combined['family'].unique())\n",
    "family_codes = {} # family encoding dict\n",
    "for i in range(len(families)):\n",
    "    family_codes[families[i]] = i\n",
    "combined['family'].replace(family_codes, inplace=True)\n",
    "\n",
    "# # encode holiday Type\n",
    "# types = list(combined['type_x'].unique())\n",
    "# type_codes = {} # Type encoding dict\n",
    "# for i in range(len(types)):\n",
    "#     type_codes[types[i]] = i \n",
    "# combined['type_x'].replace(type_codes, inplace=True)\n",
    "\n",
    "# # encode locale\n",
    "# locales = list(combined['locale'].unique())\n",
    "# locale_codes = {}\n",
    "# for i in range(len(locales)):\n",
    "#     locale_codes[locales[i]] = i\n",
    "# combined['locale'].replace(locale_codes, inplace=True)\n",
    "\n",
    "# # encode locale_name\n",
    "# locale_names = list(combined['locale_name'].unique())\n",
    "# localename_codes = {}\n",
    "# for i in range(len(locale_names)):\n",
    "#     localename_codes[locale_names[i]] = i\n",
    "# combined['locale_name'].replace(localename_codes, inplace=True)\n",
    "\n",
    "# encode cities\n",
    "cities = list(combined['city'].unique())\n",
    "city_codes = {}\n",
    "for i in range(len(cities)):\n",
    "    city_codes[cities[i]] = i\n",
    "combined['city'].replace(city_codes, inplace=True)\n",
    "\n",
    "# encode states\n",
    "states = list(combined['state'].unique())\n",
    "state_codes = {}\n",
    "for i in range(len(states)):\n",
    "    state_codes[states[i]] = i\n",
    "combined['state'].replace(state_codes, inplace=True)\n",
    "\n",
    "# encode type_y\n",
    "ytypes = list(combined['type_y'].unique())\n",
    "y_codes = {}\n",
    "for i in range(len(ytypes)):\n",
    "    y_codes[ytypes[i]] = i\n",
    "combined['type_y'].replace(y_codes, inplace=True)\n",
    "\n",
    "# encode holiday_cleaned\n",
    "holidays = list(combined['holiday_cleaned'].unique())\n",
    "holiday_codes = {}\n",
    "for i in range(len(holidays)):\n",
    "    holiday_codes[holidays[i]] = i\n",
    "combined['holiday_cleaned'].replace(holiday_codes, inplace=True)"
   ]
  },
  {
   "cell_type": "code",
   "execution_count": 38,
   "id": "d96318cb",
   "metadata": {
    "scrolled": false
   },
   "outputs": [
    {
     "name": "stdout",
     "output_type": "stream",
     "text": [
      "<class 'pandas.core.frame.DataFrame'>\n",
      "Int64Index: 3054348 entries, 0 to 3054347\n",
      "Data columns (total 21 columns):\n",
      " #   Column           Dtype         \n",
      "---  ------           -----         \n",
      " 0   id               int64         \n",
      " 1   date             datetime64[ns]\n",
      " 2   store_nbr        int64         \n",
      " 3   family           int64         \n",
      " 4   sales            float64       \n",
      " 5   onpromotion      int64         \n",
      " 6   dcoilwtico       float64       \n",
      " 7   type_x           object        \n",
      " 8   locale           object        \n",
      " 9   locale_name      object        \n",
      " 10  description      object        \n",
      " 11  transferred      object        \n",
      " 12  city             int64         \n",
      " 13  state            int64         \n",
      " 14  type_y           int64         \n",
      " 15  cluster          int64         \n",
      " 16  days             int64         \n",
      " 17  holiday_cleaned  int64         \n",
      " 18  day              int64         \n",
      " 19  month            int64         \n",
      " 20  year             int64         \n",
      "dtypes: datetime64[ns](1), float64(2), int64(13), object(5)\n",
      "memory usage: 512.7+ MB\n",
      "None\n"
     ]
    }
   ],
   "source": [
    "print(combined.info())"
   ]
  },
  {
   "cell_type": "markdown",
   "id": "a01e6e6c",
   "metadata": {},
   "source": [
    "We will look at the correlations between various columns to see which columns are important for our training dataset."
   ]
  },
  {
   "cell_type": "code",
   "execution_count": 39,
   "id": "122c4375",
   "metadata": {},
   "outputs": [
    {
     "data": {
      "text/html": [
       "<div>\n",
       "<style scoped>\n",
       "    .dataframe tbody tr th:only-of-type {\n",
       "        vertical-align: middle;\n",
       "    }\n",
       "\n",
       "    .dataframe tbody tr th {\n",
       "        vertical-align: top;\n",
       "    }\n",
       "\n",
       "    .dataframe thead th {\n",
       "        text-align: right;\n",
       "    }\n",
       "</style>\n",
       "<table border=\"1\" class=\"dataframe\">\n",
       "  <thead>\n",
       "    <tr style=\"text-align: right;\">\n",
       "      <th></th>\n",
       "      <th>id</th>\n",
       "      <th>store_nbr</th>\n",
       "      <th>family</th>\n",
       "      <th>sales</th>\n",
       "      <th>onpromotion</th>\n",
       "      <th>dcoilwtico</th>\n",
       "      <th>city</th>\n",
       "      <th>state</th>\n",
       "      <th>type_y</th>\n",
       "      <th>cluster</th>\n",
       "      <th>days</th>\n",
       "      <th>holiday_cleaned</th>\n",
       "      <th>day</th>\n",
       "      <th>month</th>\n",
       "      <th>year</th>\n",
       "    </tr>\n",
       "  </thead>\n",
       "  <tbody>\n",
       "    <tr>\n",
       "      <th>id</th>\n",
       "      <td>1.000000</td>\n",
       "      <td>NaN</td>\n",
       "      <td>NaN</td>\n",
       "      <td>NaN</td>\n",
       "      <td>0.206032</td>\n",
       "      <td>-0.838719</td>\n",
       "      <td>NaN</td>\n",
       "      <td>NaN</td>\n",
       "      <td>NaN</td>\n",
       "      <td>NaN</td>\n",
       "      <td>1.000000</td>\n",
       "      <td>NaN</td>\n",
       "      <td>NaN</td>\n",
       "      <td>NaN</td>\n",
       "      <td>0.977741</td>\n",
       "    </tr>\n",
       "    <tr>\n",
       "      <th>store_nbr</th>\n",
       "      <td>NaN</td>\n",
       "      <td>1.000000</td>\n",
       "      <td>NaN</td>\n",
       "      <td>NaN</td>\n",
       "      <td>NaN</td>\n",
       "      <td>NaN</td>\n",
       "      <td>0.588676</td>\n",
       "      <td>0.587449</td>\n",
       "      <td>0.571970</td>\n",
       "      <td>NaN</td>\n",
       "      <td>NaN</td>\n",
       "      <td>NaN</td>\n",
       "      <td>NaN</td>\n",
       "      <td>NaN</td>\n",
       "      <td>NaN</td>\n",
       "    </tr>\n",
       "    <tr>\n",
       "      <th>family</th>\n",
       "      <td>NaN</td>\n",
       "      <td>NaN</td>\n",
       "      <td>1.0</td>\n",
       "      <td>NaN</td>\n",
       "      <td>NaN</td>\n",
       "      <td>NaN</td>\n",
       "      <td>NaN</td>\n",
       "      <td>NaN</td>\n",
       "      <td>NaN</td>\n",
       "      <td>NaN</td>\n",
       "      <td>NaN</td>\n",
       "      <td>NaN</td>\n",
       "      <td>NaN</td>\n",
       "      <td>NaN</td>\n",
       "      <td>NaN</td>\n",
       "    </tr>\n",
       "    <tr>\n",
       "      <th>sales</th>\n",
       "      <td>NaN</td>\n",
       "      <td>NaN</td>\n",
       "      <td>NaN</td>\n",
       "      <td>1.000000</td>\n",
       "      <td>0.428241</td>\n",
       "      <td>NaN</td>\n",
       "      <td>NaN</td>\n",
       "      <td>NaN</td>\n",
       "      <td>NaN</td>\n",
       "      <td>NaN</td>\n",
       "      <td>NaN</td>\n",
       "      <td>NaN</td>\n",
       "      <td>NaN</td>\n",
       "      <td>NaN</td>\n",
       "      <td>NaN</td>\n",
       "    </tr>\n",
       "    <tr>\n",
       "      <th>onpromotion</th>\n",
       "      <td>0.206032</td>\n",
       "      <td>NaN</td>\n",
       "      <td>NaN</td>\n",
       "      <td>0.428241</td>\n",
       "      <td>1.000000</td>\n",
       "      <td>NaN</td>\n",
       "      <td>NaN</td>\n",
       "      <td>NaN</td>\n",
       "      <td>NaN</td>\n",
       "      <td>NaN</td>\n",
       "      <td>0.206016</td>\n",
       "      <td>NaN</td>\n",
       "      <td>NaN</td>\n",
       "      <td>NaN</td>\n",
       "      <td>NaN</td>\n",
       "    </tr>\n",
       "    <tr>\n",
       "      <th>dcoilwtico</th>\n",
       "      <td>-0.838719</td>\n",
       "      <td>NaN</td>\n",
       "      <td>NaN</td>\n",
       "      <td>NaN</td>\n",
       "      <td>NaN</td>\n",
       "      <td>1.000000</td>\n",
       "      <td>NaN</td>\n",
       "      <td>NaN</td>\n",
       "      <td>NaN</td>\n",
       "      <td>NaN</td>\n",
       "      <td>-0.838762</td>\n",
       "      <td>NaN</td>\n",
       "      <td>NaN</td>\n",
       "      <td>NaN</td>\n",
       "      <td>-0.833454</td>\n",
       "    </tr>\n",
       "    <tr>\n",
       "      <th>city</th>\n",
       "      <td>NaN</td>\n",
       "      <td>0.588676</td>\n",
       "      <td>NaN</td>\n",
       "      <td>NaN</td>\n",
       "      <td>NaN</td>\n",
       "      <td>NaN</td>\n",
       "      <td>1.000000</td>\n",
       "      <td>0.985210</td>\n",
       "      <td>NaN</td>\n",
       "      <td>-0.423020</td>\n",
       "      <td>NaN</td>\n",
       "      <td>NaN</td>\n",
       "      <td>NaN</td>\n",
       "      <td>NaN</td>\n",
       "      <td>NaN</td>\n",
       "    </tr>\n",
       "    <tr>\n",
       "      <th>state</th>\n",
       "      <td>NaN</td>\n",
       "      <td>0.587449</td>\n",
       "      <td>NaN</td>\n",
       "      <td>NaN</td>\n",
       "      <td>NaN</td>\n",
       "      <td>NaN</td>\n",
       "      <td>0.985210</td>\n",
       "      <td>1.000000</td>\n",
       "      <td>NaN</td>\n",
       "      <td>-0.416731</td>\n",
       "      <td>NaN</td>\n",
       "      <td>NaN</td>\n",
       "      <td>NaN</td>\n",
       "      <td>NaN</td>\n",
       "      <td>NaN</td>\n",
       "    </tr>\n",
       "    <tr>\n",
       "      <th>type_y</th>\n",
       "      <td>NaN</td>\n",
       "      <td>0.571970</td>\n",
       "      <td>NaN</td>\n",
       "      <td>NaN</td>\n",
       "      <td>NaN</td>\n",
       "      <td>NaN</td>\n",
       "      <td>NaN</td>\n",
       "      <td>NaN</td>\n",
       "      <td>1.000000</td>\n",
       "      <td>0.388057</td>\n",
       "      <td>NaN</td>\n",
       "      <td>NaN</td>\n",
       "      <td>NaN</td>\n",
       "      <td>NaN</td>\n",
       "      <td>NaN</td>\n",
       "    </tr>\n",
       "    <tr>\n",
       "      <th>cluster</th>\n",
       "      <td>NaN</td>\n",
       "      <td>NaN</td>\n",
       "      <td>NaN</td>\n",
       "      <td>NaN</td>\n",
       "      <td>NaN</td>\n",
       "      <td>NaN</td>\n",
       "      <td>-0.423020</td>\n",
       "      <td>-0.416731</td>\n",
       "      <td>0.388057</td>\n",
       "      <td>1.000000</td>\n",
       "      <td>NaN</td>\n",
       "      <td>NaN</td>\n",
       "      <td>NaN</td>\n",
       "      <td>NaN</td>\n",
       "      <td>NaN</td>\n",
       "    </tr>\n",
       "    <tr>\n",
       "      <th>days</th>\n",
       "      <td>1.000000</td>\n",
       "      <td>NaN</td>\n",
       "      <td>NaN</td>\n",
       "      <td>NaN</td>\n",
       "      <td>0.206016</td>\n",
       "      <td>-0.838762</td>\n",
       "      <td>NaN</td>\n",
       "      <td>NaN</td>\n",
       "      <td>NaN</td>\n",
       "      <td>NaN</td>\n",
       "      <td>1.000000</td>\n",
       "      <td>NaN</td>\n",
       "      <td>NaN</td>\n",
       "      <td>NaN</td>\n",
       "      <td>0.977852</td>\n",
       "    </tr>\n",
       "    <tr>\n",
       "      <th>holiday_cleaned</th>\n",
       "      <td>NaN</td>\n",
       "      <td>NaN</td>\n",
       "      <td>NaN</td>\n",
       "      <td>NaN</td>\n",
       "      <td>NaN</td>\n",
       "      <td>NaN</td>\n",
       "      <td>NaN</td>\n",
       "      <td>NaN</td>\n",
       "      <td>NaN</td>\n",
       "      <td>NaN</td>\n",
       "      <td>NaN</td>\n",
       "      <td>1.0</td>\n",
       "      <td>NaN</td>\n",
       "      <td>NaN</td>\n",
       "      <td>NaN</td>\n",
       "    </tr>\n",
       "    <tr>\n",
       "      <th>day</th>\n",
       "      <td>NaN</td>\n",
       "      <td>NaN</td>\n",
       "      <td>NaN</td>\n",
       "      <td>NaN</td>\n",
       "      <td>NaN</td>\n",
       "      <td>NaN</td>\n",
       "      <td>NaN</td>\n",
       "      <td>NaN</td>\n",
       "      <td>NaN</td>\n",
       "      <td>NaN</td>\n",
       "      <td>NaN</td>\n",
       "      <td>NaN</td>\n",
       "      <td>1.0</td>\n",
       "      <td>NaN</td>\n",
       "      <td>NaN</td>\n",
       "    </tr>\n",
       "    <tr>\n",
       "      <th>month</th>\n",
       "      <td>NaN</td>\n",
       "      <td>NaN</td>\n",
       "      <td>NaN</td>\n",
       "      <td>NaN</td>\n",
       "      <td>NaN</td>\n",
       "      <td>NaN</td>\n",
       "      <td>NaN</td>\n",
       "      <td>NaN</td>\n",
       "      <td>NaN</td>\n",
       "      <td>NaN</td>\n",
       "      <td>NaN</td>\n",
       "      <td>NaN</td>\n",
       "      <td>NaN</td>\n",
       "      <td>1.0</td>\n",
       "      <td>NaN</td>\n",
       "    </tr>\n",
       "    <tr>\n",
       "      <th>year</th>\n",
       "      <td>0.977741</td>\n",
       "      <td>NaN</td>\n",
       "      <td>NaN</td>\n",
       "      <td>NaN</td>\n",
       "      <td>NaN</td>\n",
       "      <td>-0.833454</td>\n",
       "      <td>NaN</td>\n",
       "      <td>NaN</td>\n",
       "      <td>NaN</td>\n",
       "      <td>NaN</td>\n",
       "      <td>0.977852</td>\n",
       "      <td>NaN</td>\n",
       "      <td>NaN</td>\n",
       "      <td>NaN</td>\n",
       "      <td>1.000000</td>\n",
       "    </tr>\n",
       "  </tbody>\n",
       "</table>\n",
       "</div>"
      ],
      "text/plain": [
       "                       id  store_nbr  family     sales  onpromotion  \\\n",
       "id               1.000000        NaN     NaN       NaN     0.206032   \n",
       "store_nbr             NaN   1.000000     NaN       NaN          NaN   \n",
       "family                NaN        NaN     1.0       NaN          NaN   \n",
       "sales                 NaN        NaN     NaN  1.000000     0.428241   \n",
       "onpromotion      0.206032        NaN     NaN  0.428241     1.000000   \n",
       "dcoilwtico      -0.838719        NaN     NaN       NaN          NaN   \n",
       "city                  NaN   0.588676     NaN       NaN          NaN   \n",
       "state                 NaN   0.587449     NaN       NaN          NaN   \n",
       "type_y                NaN   0.571970     NaN       NaN          NaN   \n",
       "cluster               NaN        NaN     NaN       NaN          NaN   \n",
       "days             1.000000        NaN     NaN       NaN     0.206016   \n",
       "holiday_cleaned       NaN        NaN     NaN       NaN          NaN   \n",
       "day                   NaN        NaN     NaN       NaN          NaN   \n",
       "month                 NaN        NaN     NaN       NaN          NaN   \n",
       "year             0.977741        NaN     NaN       NaN          NaN   \n",
       "\n",
       "                 dcoilwtico      city     state    type_y   cluster      days  \\\n",
       "id                -0.838719       NaN       NaN       NaN       NaN  1.000000   \n",
       "store_nbr               NaN  0.588676  0.587449  0.571970       NaN       NaN   \n",
       "family                  NaN       NaN       NaN       NaN       NaN       NaN   \n",
       "sales                   NaN       NaN       NaN       NaN       NaN       NaN   \n",
       "onpromotion             NaN       NaN       NaN       NaN       NaN  0.206016   \n",
       "dcoilwtico         1.000000       NaN       NaN       NaN       NaN -0.838762   \n",
       "city                    NaN  1.000000  0.985210       NaN -0.423020       NaN   \n",
       "state                   NaN  0.985210  1.000000       NaN -0.416731       NaN   \n",
       "type_y                  NaN       NaN       NaN  1.000000  0.388057       NaN   \n",
       "cluster                 NaN -0.423020 -0.416731  0.388057  1.000000       NaN   \n",
       "days              -0.838762       NaN       NaN       NaN       NaN  1.000000   \n",
       "holiday_cleaned         NaN       NaN       NaN       NaN       NaN       NaN   \n",
       "day                     NaN       NaN       NaN       NaN       NaN       NaN   \n",
       "month                   NaN       NaN       NaN       NaN       NaN       NaN   \n",
       "year              -0.833454       NaN       NaN       NaN       NaN  0.977852   \n",
       "\n",
       "                 holiday_cleaned  day  month      year  \n",
       "id                           NaN  NaN    NaN  0.977741  \n",
       "store_nbr                    NaN  NaN    NaN       NaN  \n",
       "family                       NaN  NaN    NaN       NaN  \n",
       "sales                        NaN  NaN    NaN       NaN  \n",
       "onpromotion                  NaN  NaN    NaN       NaN  \n",
       "dcoilwtico                   NaN  NaN    NaN -0.833454  \n",
       "city                         NaN  NaN    NaN       NaN  \n",
       "state                        NaN  NaN    NaN       NaN  \n",
       "type_y                       NaN  NaN    NaN       NaN  \n",
       "cluster                      NaN  NaN    NaN       NaN  \n",
       "days                         NaN  NaN    NaN  0.977852  \n",
       "holiday_cleaned              1.0  NaN    NaN       NaN  \n",
       "day                          NaN  1.0    NaN       NaN  \n",
       "month                        NaN  NaN    1.0       NaN  \n",
       "year                         NaN  NaN    NaN  1.000000  "
      ]
     },
     "execution_count": 39,
     "metadata": {},
     "output_type": "execute_result"
    }
   ],
   "source": [
    "combined.corr().where((combined.corr() > 0.2) | (combined.corr() < -0.2))"
   ]
  },
  {
   "cell_type": "markdown",
   "id": "7258bfbe",
   "metadata": {},
   "source": [
    "# Creating and optimising MLP DNN via PyTorch"
   ]
  },
  {
   "cell_type": "markdown",
   "id": "d350fdc6",
   "metadata": {},
   "source": [
    "Now that we have prepared our data and encoded all of them, we will try creating to train a supervised neural network on a training set (80% of our combined data), and validate it on the validation set (20% of combined data). We use sklearn's train_test_split function to first prep the data."
   ]
  },
  {
   "cell_type": "code",
   "execution_count": 68,
   "id": "e52246be",
   "metadata": {},
   "outputs": [],
   "source": [
    "import torch\n",
    "import torch.nn as nn\n",
    "\n",
    "# define the neural network\n",
    "\n",
    "class MLP(nn.Module):\n",
    "    \n",
    "    def __init__(self):\n",
    "        super(MLP, self).__init__()\n",
    "        self.layers = nn.Sequential(\n",
    "        nn.Linear(11, 11),\n",
    "        nn.LeakyReLU(),\n",
    "        nn.Linear(11, 32),\n",
    "        nn.LeakyReLU(),\n",
    "        nn.Linear(32, 1)\n",
    "        )\n",
    "    \n",
    "    def forward(self, x):\n",
    "        \"\"\"forward pass\"\"\"\n",
    "        return self.layers(x)\n",
    "    \n"
   ]
  },
  {
   "cell_type": "code",
   "execution_count": 69,
   "id": "c977970a",
   "metadata": {},
   "outputs": [
    {
     "name": "stdout",
     "output_type": "stream",
     "text": [
      "(70000, 12) (30001, 12)\n"
     ]
    }
   ],
   "source": [
    "# prepare input data for neural network\n",
    "\n",
    "INPUT_COLS = ['day', 'month', 'store_nbr', 'family', 'onpromotion', \n",
    "              'dcoilwtico', 'city', 'state', 'type_y', 'cluster', \n",
    "              'holiday_cleaned', 'sales']\n",
    "\n",
    "TESTING_SIZE = 100000\n",
    "\n",
    "from sklearn.model_selection import train_test_split\n",
    "\n",
    "train, test = train_test_split(combined.loc[:TESTING_SIZE, INPUT_COLS], test_size=0.3, random_state=69)\n",
    "print(train.shape, test.shape)\n",
    "\n",
    "# create class for loading our pandas dataset\n",
    "\n",
    "class CombinedDataset(torch.utils.data.Dataset):\n",
    "    \n",
    "    def __init__(self, X, y, scale_data=False):\n",
    "        if not torch.is_tensor(X) and not torch.is_tensor(y):\n",
    "            # Apply scaling if necessary\n",
    "            if scale_data:\n",
    "                scale_factor = 1/(X.max()-X.min())\n",
    "                X = (X-X.min())*scale_factor\n",
    "            self.X = torch.from_numpy(X)\n",
    "            self.y = torch.from_numpy(y)\n",
    "\n",
    "    def __len__(self):\n",
    "        return len(self.X)\n",
    "\n",
    "    def __getitem__(self, i):\n",
    "        return self.X[i], self.y[i]\n",
    "\n",
    "# load our df dataset into tensor for pytorch\n",
    "\n",
    "X = train.iloc[:, :-1].to_numpy()\n",
    "y = train.iloc[:, -1].to_numpy()\n",
    "\n",
    "X_test = test.iloc[:, :-1].to_numpy()\n",
    "y_test = test.iloc[:, -1].to_numpy()\n",
    "\n",
    "BATCH_SIZE = 256\n",
    "\n",
    "dataset = CombinedDataset(X=X, y=y)\n",
    "dataset_test = CombinedDataset(X=X_test, y=y_test)\n",
    "trainloader = torch.utils.data.DataLoader(dataset, batch_size=BATCH_SIZE)\n",
    "testloader = torch.utils.data.DataLoader(dataset_test, batch_size=BATCH_SIZE)"
   ]
  },
  {
   "cell_type": "code",
   "execution_count": null,
   "id": "dd71d6cb",
   "metadata": {},
   "outputs": [],
   "source": [
    "# Initialize the MLP\n",
    "# mlp = MLP()\n",
    "\n",
    "# Set fixed random number seed\n",
    "torch.manual_seed(42)\n",
    "\n",
    "\n",
    "# Define the loss function and optimizer\n",
    "class RMSLELoss(nn.Module):\n",
    "    def __init__(self):\n",
    "        super().__init__()\n",
    "        self.mse = nn.MSELoss()\n",
    "        \n",
    "    def forward(self, pred, actual):\n",
    "        return torch.sqrt(self.mse(torch.log(pred + 1), torch.log(actual + 1)))\n",
    "\n",
    "class MinMaxScaler(nn.Module):\n",
    "    def __init__(self):\n",
    "        super().__init__()\n",
    "    \n",
    "    def forward(self, tensor):\n",
    "        return (tensor - torch.min(tensor))/(torch.max(tensor) - torch.min(tensor))\n",
    "    \n",
    "loss_function = RMSLELoss()\n",
    "\n",
    "minmax = MinMaxScaler()\n",
    "\n",
    "losses_epoch = []\n",
    "test_losses_epoch = []\n"
   ]
  },
  {
   "cell_type": "code",
   "execution_count": 131,
   "id": "c5ccf546",
   "metadata": {},
   "outputs": [],
   "source": [
    "optimizer = torch.optim.Adam(mlp.parameters(), lr=0.0005,)"
   ]
  },
  {
   "cell_type": "code",
   "execution_count": 135,
   "id": "c8790614",
   "metadata": {
    "scrolled": true
   },
   "outputs": [
    {
     "name": "stdout",
     "output_type": "stream",
     "text": [
      "Training process has finished.\n"
     ]
    }
   ],
   "source": [
    "# Run the training loop\n",
    "for epoch in range(0, 500): # 100 epochs at maximum\n",
    "\n",
    "    # Print epoch\n",
    "    print(f'Starting epoch {epoch+1}', end='\\r')\n",
    "\n",
    "    # Set current loss value\n",
    "    losses = []\n",
    "    \n",
    "    # Iterate over the DataLoader for training data\n",
    "    for i, data in enumerate(trainloader, 0):\n",
    "\n",
    "        # Get and prepare inputs\n",
    "\n",
    "        inputs, targets = data\n",
    "        \n",
    "        inputs, targets = inputs.float(), targets.float()\n",
    "        targets = targets.reshape((targets.shape[0], 1))\n",
    "        # Zero the gradients\n",
    "        optimizer.zero_grad()\n",
    "        \n",
    "        # Perform forward pass\n",
    "        outputs = mlp(inputs)\n",
    "        \n",
    "        # Compute loss\n",
    "        loss = loss_function(minmax(outputs), minmax(targets))\n",
    "\n",
    "        # Perform backward pass\n",
    "        loss.backward()\n",
    "\n",
    "        # Perform optimization\n",
    "        optimizer.step()\n",
    "\n",
    "        # Print statistics\n",
    "        losses.append(loss.detach())\n",
    "        \n",
    "    losses_epoch.append(losses)\n",
    "    \n",
    "    # Set current test_losses\n",
    "    test_losses = []\n",
    "\n",
    "    for i, data in enumerate(testloader, 0):\n",
    "        inputs, targets = data\n",
    "        inputs, targets = inputs.float(), targets.float()\n",
    "        targets = targets.reshape((targets.shape[0], 1))\n",
    "\n",
    "        # 予測計算\n",
    "        outputs = mlp(inputs)\n",
    "\n",
    "        #値の制限 下限を０\n",
    "        #outputs = torch.clamp(input=outputs, min= 0)\n",
    "\n",
    "        # 損失計算\n",
    "        test_loss = loss_function(minmax(outputs), minmax(targets))\n",
    "        test_losses.append(test_loss.detach())\n",
    "\n",
    "    test_losses_epoch.append(test_losses)      \n",
    " \n",
    "# Process is complete.\n",
    "print('Training process has finished.')"
   ]
  },
  {
   "cell_type": "code",
   "execution_count": 136,
   "id": "3872b639",
   "metadata": {},
   "outputs": [
    {
     "data": {
      "text/plain": [
       "[<matplotlib.lines.Line2D at 0x7f7cf4132820>]"
      ]
     },
     "execution_count": 136,
     "metadata": {},
     "output_type": "execute_result"
    },
    {
     "data": {
      "image/png": "[encoded data removed]",
      "text/plain": [
       "<Figure size 432x288 with 1 Axes>"
      ]
     },
     "metadata": {
      "needs_background": "light"
     },
     "output_type": "display_data"
    }
   ],
   "source": [
    "loss_x = []\n",
    "\n",
    "for epoch in losses_epoch:\n",
    "    loss_x.append(sum(epoch)/len(epoch))\n",
    "\n",
    "plt.plot(loss_x[:])\n"
   ]
  },
  {
   "cell_type": "code",
   "execution_count": 137,
   "id": "81f05681",
   "metadata": {},
   "outputs": [
    {
     "data": {
      "text/plain": [
       "[<matplotlib.lines.Line2D at 0x7f7cf408f040>]"
      ]
     },
     "execution_count": 137,
     "metadata": {},
     "output_type": "execute_result"
    },
    {
     "data": {
      "image/png": "[encoded data removed]",
      "text/plain": [
       "<Figure size 432x288 with 1 Axes>"
      ]
     },
     "metadata": {
      "needs_background": "light"
     },
     "output_type": "display_data"
    }
   ],
   "source": [
    "test_loss_x = []\n",
    "\n",
    "for epoch in test_losses_epoch:\n",
    "    test_loss_x.append(sum(epoch)/len(epoch))\n",
    "    \n",
    "plt.plot(test_loss_x[:])"
   ]
  },
  {
   "cell_type": "code",
   "execution_count": 138,
   "id": "8cd59eb9",
   "metadata": {},
   "outputs": [],
   "source": [
    "torch.save(mlp.state_dict(), 'store_sales_model.pt')"
   ]
  },
  {
   "cell_type": "markdown",
   "id": "b4755b3e",
   "metadata": {},
   "source": [
    "# Applying Model to Test Data\n",
    "\n",
    "Now that our model is ready, we load our test data and process it in the same way, before putting it through the model."
   ]
  },
  {
   "cell_type": "code",
   "execution_count": 157,
   "id": "d2012028",
   "metadata": {},
   "outputs": [],
   "source": [
    "test = pd.read_csv('test.csv', delimiter=',') # loading test data"
   ]
  },
  {
   "cell_type": "code",
   "execution_count": 158,
   "id": "49527479",
   "metadata": {},
   "outputs": [],
   "source": [
    "oil['date'] = oil['date'].astype('datetime64')\n",
    "test['date'] = test['date'].astype('datetime64')\n",
    "hol_events['date'] = hol_events['date'].astype('datetime64')\n",
    "combined_test = test.merge(oil, on='date', how='left')\n",
    "combined_test = combined_test.merge(hol_events, on='date', how='left')"
   ]
  },
  {
   "cell_type": "code",
   "execution_count": 159,
   "id": "f837f343",
   "metadata": {},
   "outputs": [
    {
     "data": {
      "image/png": "[encoded data removed]",
      "text/plain": [
       "<Figure size 432x288 with 1 Axes>"
      ]
     },
     "metadata": {
      "needs_background": "light"
     },
     "output_type": "display_data"
    }
   ],
   "source": [
    "from scipy.interpolate import *\n",
    "\n",
    "\n",
    "def date_to_days(date):\n",
    "    \"\"\"function to convert datetime to days\"\"\"\n",
    "    START_DATE = oil['date'][0]\n",
    "    return (date - START_DATE).days\n",
    "\n",
    "\n",
    "oil['days'] = oil['date'].apply(date_to_days)\n",
    "\n",
    "\n",
    "x = oil[oil['dcoilwtico'].isna() == False]['days'].to_numpy()\n",
    "y = oil[oil['dcoilwtico'].isna() == False]['dcoilwtico'].to_numpy()\n",
    "BANDWIDTH = 0 # 0 to force strict interpolation between points\n",
    "\n",
    "# interpolate by spline interpolation on the points that have non-NaN values\n",
    "tck = splrep(x, y, s=BANDWIDTH)\n",
    "xnew = combined_test['date'].astype('datetime64').apply(date_to_days).to_numpy() # we want to get the interpolated values for all the dates in test\n",
    "ynew = splev(xnew, tck,)\n",
    "\n",
    "combined_test['dcoilwtico'] = ynew #replace column with interpolated values\n",
    "\n",
    "fig, ax = plt.subplots()\n",
    "ax.scatter(x, y, s=0.5)\n",
    "ax.plot(xnew, ynew, 'r-', linewidth=1)\n",
    "plt.show()\n"
   ]
  },
  {
   "cell_type": "code",
   "execution_count": 160,
   "id": "74b2f022",
   "metadata": {},
   "outputs": [
    {
     "name": "stdout",
     "output_type": "stream",
     "text": [
      "id                 0\n",
      "date               0\n",
      "store_nbr          0\n",
      "family             0\n",
      "onpromotion        0\n",
      "dcoilwtico         0\n",
      "days            7128\n",
      "type_x         26730\n",
      "locale         26730\n",
      "locale_name    26730\n",
      "description    26730\n",
      "transferred    26730\n",
      "city               0\n",
      "state              0\n",
      "type_y             0\n",
      "cluster            0\n",
      "dtype: int64\n"
     ]
    }
   ],
   "source": [
    "combined_test = combined_test.merge(stores, how='left', on='store_nbr')\n",
    "print(combined_test.isna().sum())\n"
   ]
  },
  {
   "cell_type": "code",
   "execution_count": 161,
   "id": "55b010c0",
   "metadata": {},
   "outputs": [],
   "source": [
    "# fill in days with date_to_day function\n",
    "\n",
    "START_DATE = combined_test['date'].min()\n",
    "\n",
    "def date_to_days(date):\n",
    "    \"\"\"function to convert datetime to days\"\"\"\n",
    "    global START_DATE\n",
    "    return (date - START_DATE).days\n",
    "\n",
    "combined_test['days'] = combined_test['date'].apply(date_to_days)"
   ]
  },
  {
   "cell_type": "code",
   "execution_count": 162,
   "id": "4d14430d",
   "metadata": {},
   "outputs": [],
   "source": [
    "# replace nans with Work Day since number of work days is low (5)\n",
    "combined_test['type_x'].fillna('Work Day', inplace=True)\n",
    "\n",
    "# replace Bridge, and Additional with Holiday\n",
    "replace_dict = {'Bridge': 'Holiday', 'Additional': 'Holiday',}\n",
    "combined_test['type_x'].replace(replace_dict, inplace=True)\n",
    "\n",
    "# replace 'transferred' Holidays with 'Work Day'\n",
    "combined_test.loc[combined_test['transferred'] == True, 'type_x'] = combined_test.loc[combined_test['transferred'] == True, 'type_x'].replace({'Holiday': 'Work Day'})\n",
    "\n",
    "# replace 'Transfer' with 'Holiday'\n",
    "combined_test['type_x'].replace({'Transfer': 'Holiday'}, inplace=True)\n"
   ]
  },
  {
   "cell_type": "code",
   "execution_count": 163,
   "id": "53588ca6",
   "metadata": {},
   "outputs": [],
   "source": [
    "combined_test['holiday_cleaned'] = combined_test.apply(remove_wrong_hol, axis=1)\n"
   ]
  },
  {
   "cell_type": "code",
   "execution_count": 164,
   "id": "be595cf7",
   "metadata": {},
   "outputs": [],
   "source": [
    "# split date\n",
    "\n",
    "combined_test['day'] = combined_test['date'].dt.day\n",
    "combined_test['month'] = combined_test['date'].dt.month\n",
    "combined_test['year'] = combined_test['date'].dt.year"
   ]
  },
  {
   "cell_type": "code",
   "execution_count": 181,
   "id": "abb72658",
   "metadata": {},
   "outputs": [],
   "source": [
    "# encode family\n",
    "combined_test['family'].replace(family_codes, inplace=True)\n",
    "\n",
    "# # encode holiday Type\n",
    "# types = list(combined_test['type_x'].unique())\n",
    "# type_codes = {} # Type encoding dict\n",
    "# for i in range(len(types)):\n",
    "#     type_codes[types[i]] = i \n",
    "# combined_test['type_x'].replace(type_codes, inplace=True)\n",
    "\n",
    "# # encode locale\n",
    "# locales = list(combined_test['locale'].unique())\n",
    "# locale_codes = {}\n",
    "# for i in range(len(locales)):\n",
    "#     locale_codes[locales[i]] = i\n",
    "# combined_test['locale'].replace(locale_codes, inplace=True)\n",
    "\n",
    "# # encode locale_name\n",
    "# locale_names = list(combined_test['locale_name'].unique())\n",
    "# localename_codes = {}\n",
    "# for i in range(len(locale_names)):\n",
    "#     localename_codes[locale_names[i]] = i\n",
    "# combined_test['locale_name'].replace(localename_codes, inplace=True)\n",
    "\n",
    "# encode cities\n",
    "combined_test['city'].replace(city_codes, inplace=True)\n",
    "\n",
    "# encode states\n",
    "combined_test['state'].replace(state_codes, inplace=True)\n",
    "\n",
    "# encode type_y\n",
    "combined_test['type_y'].replace(y_codes, inplace=True)\n",
    "\n",
    "# encode holiday_cleaned\n",
    "combined_test['holiday_cleaned'].replace(holiday_codes, inplace=True)"
   ]
  },
  {
   "cell_type": "code",
   "execution_count": 182,
   "id": "64d96cc8",
   "metadata": {},
   "outputs": [
    {
     "name": "stdout",
     "output_type": "stream",
     "text": [
      "{'Pichincha': 0, 'Cotopaxi': 1, 'Chimborazo': 2, 'Imbabura': 3, 'Santo Domingo de los Tsachilas': 4, 'Bolivar': 5, 'Pastaza': 6, 'Tungurahua': 7, 'Guayas': 8, 'Santa Elena': 9, 'Los Rios': 10, 'Azuay': 11, 'Loja': 12, 'El Oro': 13, 'Esmeraldas': 14, 'Manabi': 15}\n"
     ]
    }
   ],
   "source": [
    "print(state_codes)"
   ]
  },
  {
   "cell_type": "code",
   "execution_count": 183,
   "id": "d80b0471",
   "metadata": {},
   "outputs": [
    {
     "name": "stdout",
     "output_type": "stream",
     "text": [
      "<class 'pandas.core.frame.DataFrame'>\n",
      "Int64Index: 28512 entries, 0 to 28511\n",
      "Data columns (total 20 columns):\n",
      " #   Column           Non-Null Count  Dtype         \n",
      "---  ------           --------------  -----         \n",
      " 0   id               28512 non-null  int64         \n",
      " 1   date             28512 non-null  datetime64[ns]\n",
      " 2   store_nbr        28512 non-null  int64         \n",
      " 3   family           28512 non-null  int64         \n",
      " 4   onpromotion      28512 non-null  int64         \n",
      " 5   dcoilwtico       28512 non-null  float64       \n",
      " 6   days             28512 non-null  int64         \n",
      " 7   type_x           28512 non-null  object        \n",
      " 8   locale           1782 non-null   object        \n",
      " 9   locale_name      1782 non-null   object        \n",
      " 10  description      1782 non-null   object        \n",
      " 11  transferred      1782 non-null   object        \n",
      " 12  city             28512 non-null  int64         \n",
      " 13  state            28512 non-null  int64         \n",
      " 14  type_y           28512 non-null  int64         \n",
      " 15  cluster          28512 non-null  int64         \n",
      " 16  holiday_cleaned  28512 non-null  int64         \n",
      " 17  day              28512 non-null  int64         \n",
      " 18  month            28512 non-null  int64         \n",
      " 19  year             28512 non-null  int64         \n",
      "dtypes: datetime64[ns](1), float64(1), int64(13), object(5)\n",
      "memory usage: 4.6+ MB\n",
      "None\n"
     ]
    }
   ],
   "source": [
    "print(combined_test.info())"
   ]
  },
  {
   "cell_type": "code",
   "execution_count": 184,
   "id": "5d318c61",
   "metadata": {
    "scrolled": true
   },
   "outputs": [
    {
     "name": "stdout",
     "output_type": "stream",
     "text": [
      "Prediction has finished.\n"
     ]
    }
   ],
   "source": [
    "# prepare input data for neural network\n",
    "\n",
    "\n",
    "# load our df dataset into tensor for pytorch\n",
    "SUB_COLS = ['day', 'month', 'store_nbr', 'family', 'onpromotion', \n",
    "              'dcoilwtico', 'city', 'state', 'type_y', 'cluster', \n",
    "              'holiday_cleaned', ]\n",
    "\n",
    "X_sub = combined_test.loc[:, SUB_COLS].to_numpy()\n",
    "\n",
    "class SubDataset(torch.utils.data.Dataset):\n",
    "    \n",
    "    def __init__(self, X, scale_data=False):\n",
    "        if not torch.is_tensor(X):\n",
    "            self.X = torch.from_numpy(X)\n",
    "\n",
    "    def __len__(self):\n",
    "        return len(self.X)\n",
    "\n",
    "    def __getitem__(self, i):\n",
    "        return self.X[i]\n",
    "\n",
    "\n",
    "SUB_BATCH_SIZE = 1\n",
    "        \n",
    "dataset_sub = SubDataset(X=X_sub)\n",
    "subloader = torch.utils.data.DataLoader(dataset_sub, batch_size=SUB_BATCH_SIZE)\n",
    "\n",
    "# # Initialize the MLP\n",
    "# mlp = MLP()\n",
    "\n",
    "loss_function = RMSLELoss()\n",
    "minmax = MinMaxScaler()\n",
    "\n",
    "# Set current test_losses\n",
    "output_list = []\n",
    "\n",
    "for i, data in enumerate(subloader, 0):\n",
    "    inputs = data\n",
    "    inputs = inputs.float()\n",
    "    \n",
    "    # 予測計算\n",
    "    outputs = mlp(inputs)\n",
    "\n",
    "    #値の制限 下限を０\n",
    "    #outputs = torch.clamp(input=outputs, min= 0)\n",
    "\n",
    "    output_list.append(outputs.detach().numpy())\n",
    "    \n",
    "    print(f'Data Row {i}', end='\\r')\n",
    "    \n",
    "# Process is complete.\n",
    "print('Prediction has finished.')"
   ]
  },
  {
   "cell_type": "code",
   "execution_count": 185,
   "id": "0ed116ed",
   "metadata": {},
   "outputs": [],
   "source": [
    "sales = np.array(output_list).reshape([28512,])"
   ]
  },
  {
   "cell_type": "code",
   "execution_count": 186,
   "id": "6559757f",
   "metadata": {},
   "outputs": [],
   "source": [
    "submission_table = combined_test\n",
    "submission_table['sales'] = sales"
   ]
  },
  {
   "cell_type": "code",
   "execution_count": null,
   "id": "595f66ee",
   "metadata": {},
   "outputs": [],
   "source": [
    "submission_table.loc[:, ['id', 'sales']].to_csv('Submission v1.csv', index=False)"
   ]
  },
  {
   "cell_type": "markdown",
   "id": "1b1f1415",
   "metadata": {},
   "source": [
    "# End\n",
    "\n",
    "We have finished running our simple MLP model on a real-world time-series data. Clearly, the results are not optimised. Many of the columns we used for our training X have little correlation with the sales column, and we could possibly have found better features either by creating new columns from the existing columns, or perhaps doing feature extraction via PCA.\n",
    "\n",
    "One learning point from this was that by varying the learning rate across epochs, I was able to prevent the data from oscillating around local minima by reducing the learning rate when fluctuations are large.\n",
    "\n",
    "We will take a step back and do more analysis on the data itself, and attempt to visualise the data via plotly's interactive graphing functions."
   ]
  }
 ],
 "metadata": {
  "kernelspec": {
   "display_name": "kaggle",
   "language": "python",
   "name": "kaggle"
  },
  "language_info": {
   "codemirror_mode": {
    "name": "ipython",
    "version": 3
   },
   "file_extension": ".py",
   "mimetype": "text/x-python",
   "name": "python",
   "nbconvert_exporter": "python",
   "pygments_lexer": "ipython3",
   "version": "3.9.12"
  }
 },
 "nbformat": 4,
 "nbformat_minor": 5
}
